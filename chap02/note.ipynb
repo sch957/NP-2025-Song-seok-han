{
 "cells": [
  {
   "cell_type": "markdown",
   "id": "86a26158",
   "metadata": {},
   "source": [
    "# 2장 노트정리   \n",
    "이 파일은 2장 학습하면서 실행한 내용을 정리한 것이다.\n",
    "\n",
    "날짜 : 2025.9.9\n",
    "\n",
    "저자 : 송석한"
   ]
  },
  {
   "cell_type": "code",
   "execution_count": 2,
   "id": "3583e32a",
   "metadata": {},
   "outputs": [
    {
     "name": "stdout",
     "output_type": "stream",
     "text": [
      "Hello, 여러분!!\n"
     ]
    }
   ],
   "source": [
    "print(\"Hello, 여러분!!\")"
   ]
  },
  {
   "cell_type": "code",
   "execution_count": 5,
   "id": "add272ca",
   "metadata": {},
   "outputs": [
    {
     "name": "stdout",
     "output_type": "stream",
     "text": [
      "x = 3\n"
     ]
    }
   ],
   "source": [
    "x = 3\n",
    "print(f\"x = {x}\")"
   ]
  },
  {
   "cell_type": "code",
   "execution_count": 6,
   "id": "3af9a289",
   "metadata": {},
   "outputs": [
    {
     "data": {
      "text/plain": [
       "3"
      ]
     },
     "execution_count": 6,
     "metadata": {},
     "output_type": "execute_result"
    }
   ],
   "source": [
    "x = 3 \n",
    "x\n"
   ]
  },
  {
   "cell_type": "code",
   "execution_count": null,
   "id": "562df2db",
   "metadata": {},
   "outputs": [
    {
     "name": "stdout",
     "output_type": "stream",
     "text": [
      "30\n",
      "동양미래대학교\n",
      "abcabcabc\n",
      "25 32\n",
      "25 + 32 = 57\n"
     ]
    }
   ],
   "source": [
    "# print() 함수\n",
    "# 숫자나 문자열 등의 데이터나 수식을 화면에 출력할 때 사용\n",
    "print(10+20) # ()속의 연산 결과 출력\n",
    "\n",
    "print(\"동양미래대학교\") # 문자열 출력\n",
    "\n",
    "print(\"abc\" * 3) # 문자열 3번 출력\n",
    "\n",
    "x = 25\n",
    "y = 32\n",
    "z = x + y\n",
    "print(x, y) #변수 x, y 값 출력\n",
    "\n",
    "print(x, '+', y, '=',z) #문자열과 변수의 조합 출력"
   ]
  },
  {
   "cell_type": "code",
   "execution_count": null,
   "id": "aa872abd",
   "metadata": {},
   "outputs": [
    {
     "name": "stdout",
     "output_type": "stream",
     "text": [
      "30\n",
      "1020\n",
      "abc abc abc \n",
      "n=10\n",
      "m=5.2, n=10\n"
     ]
    }
   ],
   "source": [
    "# print() 함수-서식 지정\n",
    "# 숫자나 문자열 등의 데이터를 서식을 지정하여 화면에 출력할 때 사용\n",
    "print(10+20)\n",
    "\n",
    "print(\"10\"+\"20\") #문자열 \n",
    "\n",
    "print(\"abc \" * 3) #문자열 3번 출력\n",
    "\n",
    "n=10\n",
    "print(\"n=%d\" %n) # 서식 지정 출력\n",
    "\n",
    "m = 5.21\n",
    "print(\"m=%.1f, n=%d\" %(m,n)) # %.1f = 소숫점 1자리까지 표시\n"
   ]
  },
  {
   "cell_type": "code",
   "execution_count": null,
   "id": "56a46306",
   "metadata": {},
   "outputs": [
    {
     "data": {
      "text/plain": [
       "'3'"
      ]
     },
     "execution_count": 13,
     "metadata": {},
     "output_type": "execute_result"
    }
   ],
   "source": [
    "# input() 함수\n",
    "n = input('type a number : ')\n",
    "\n",
    "n #문자열로 입력된다\n",
    "\n",
    "int(n) #문자열을 정수로 변환\n",
    "\n",
    "float(n) #문자열을 실수형으로 변환\n",
    "\n",
    "n = str(3) #정수를 문자열로 변환\n",
    "n"
   ]
  },
  {
   "cell_type": "code",
   "execution_count": 16,
   "id": "57049ff9",
   "metadata": {},
   "outputs": [
    {
     "data": {
      "text/plain": [
       "True"
      ]
     },
     "execution_count": 16,
     "metadata": {},
     "output_type": "execute_result"
    }
   ],
   "source": [
    "# 부울형(Boolean)\n",
    "# 참(True) 또는 거짓(False) 중 하나의 값을 갖는 자료형(True, False)\n",
    "# 비교 결과를 저장할 때 사용\n",
    "\n",
    "aVar = True\n",
    "bVar = False\n",
    "\n",
    "a = 1\n",
    "b = 2\n",
    "c = a > b\n",
    "c\n",
    "\n",
    "d = a < b\n",
    "d"
   ]
  },
  {
   "cell_type": "markdown",
   "id": "8521f7a2",
   "metadata": {},
   "source": [
    "산술 연산자(arithmetic operator)   \n",
    "• 사칙연산자: +, -, *, /   \n",
    "• 정수나눗셈: //   \n",
    "• 나머지 연산: %   \n"
   ]
  },
  {
   "cell_type": "code",
   "execution_count": 18,
   "id": "e1a0a593",
   "metadata": {},
   "outputs": [
    {
     "name": "stdout",
     "output_type": "stream",
     "text": [
      "True\n",
      "True\n",
      "140718224929608\n",
      "140718224929608\n",
      "True\n",
      "True\n",
      "False\n"
     ]
    }
   ],
   "source": [
    "# 멤버 연산자(membership operator)\n",
    "# in\n",
    "# 특정 문자열 또는 값이 문자열 또는 리스트(반복객체)에 속해 있는지 판별하는 연산자\n",
    "\n",
    "print('py' in 'python')\n",
    "print('ty' not in 'python')\n",
    "\n",
    "# 식별 연산자(identity operator)\n",
    "# is : 양쪽 변수의 주소가 같은지 판단. if id(a) == id(b)\n",
    "# is not : 양쪽 변수의 주소가 다른지 판단. if id(a) != id(b)\n",
    "\n",
    "a = 2\n",
    "b = 2\n",
    "print(id(a))\n",
    "print(id(b))\n",
    "\n",
    "print(id(a) == id(b))\n",
    "print(a is b)\n",
    "\n",
    "print(a is not b)\n"
   ]
  }
 ],
 "metadata": {
  "kernelspec": {
   "display_name": "Python 3",
   "language": "python",
   "name": "python3"
  },
  "language_info": {
   "codemirror_mode": {
    "name": "ipython",
    "version": 3
   },
   "file_extension": ".py",
   "mimetype": "text/x-python",
   "name": "python",
   "nbconvert_exporter": "python",
   "pygments_lexer": "ipython3",
   "version": "3.11.9"
  }
 },
 "nbformat": 4,
 "nbformat_minor": 5
}
