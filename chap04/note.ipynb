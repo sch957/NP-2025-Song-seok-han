{
 "cells": [
  {
   "cell_type": "markdown",
   "id": "fddc939b",
   "metadata": {},
   "source": [
    "# 4장 노트정리   \n",
    "이 파일은 4장 학습하면서 실행한 내용을 정리한 것이다.\n",
    "\n",
    "날짜 : 2025.9.20\n",
    "\n",
    "저자 : 송석한"
   ]
  },
  {
   "cell_type": "markdown",
   "id": "07682f9a",
   "metadata": {},
   "source": [
    "자료 구조(data structure)란?  \n",
    "• 자료를 표현하고 처리하기 위해 사용되는 구조  \n",
    "• 자료를 효율적으로 처리하고 저장하는 데 사용  \n",
    "• 파이썬에서 사용되는 기본 자료 구조  \n",
    "-문자열(string) : str = ‘abcde’ 홑/겹 따옴표로 묶인 문자열  \n",
    "-리스트(list) : list = [ 1, 2, 3, 4] 순서가 있는 원소(객체)의 목록  \n",
    "-튜플(tuple) tuple = (1,2,3) immutable 한 데이터의 쌍  \n",
    "-딕셔너리(dictionary) dic = {‘a’:1, ‘b’:23, ‘c’: 32} 유일한 키로 이루어진 키:값의 집합  \n",
    "-집합(set) set = {1,5,3,2} 유일한 값들의 집합  "
   ]
  },
  {
   "cell_type": "markdown",
   "id": "74b81124",
   "metadata": {},
   "source": [
    "❖ 문자열   \n",
    "  \n",
    "문자열의 구조  \n",
    "• 다수의 문자를 표현하기 위한 자료구조  \n",
    "• '' 또는 \"\"로 둘러싼다: \"abc\", 'hello'  \n",
    "• '''(\"\"\") 부터 '''(\"\"\")까지 문자: 문자열이 두 줄 이상일 때 주로 사용  "
   ]
  },
  {
   "cell_type": "markdown",
   "id": "d651f399",
   "metadata": {},
   "source": [
    "❖ 리스트  \n",
    "  \n",
    "• 리스트는 여러 개의 데이터를 하나의 이름으로 저장하는 자료 구조\n",
    "\n",
    ">>> odd = [1, 3, 5, 7, 9] [ ]를 이용하여 리스트 생성  \n",
    ">>> squares = [1, 4, 9, 16, 25]  \n",
    ">>> squares  \n",
    "[1, 4, 9, 16, 25]  \n",
    ">>> empty = [] 공백 리스트. empy = list()  \n",
    ">>> empty  \n",
    "[]  \n",
    ">>> a = [1, 'hello', 2, 'world', 1.23] 리스트 요소는 어떤 것이라도 가능\n"
   ]
  },
  {
   "cell_type": "markdown",
   "id": "3eba2b3d",
   "metadata": {},
   "source": [
    "❖ 리스트의 인덱싱(요소 접근하기)과 슬라이싱(잘라내기)  \n",
    "  \n",
    ">>> squares = [1, 4, 9, 16, 25]  \n",
    ">>> squares[0] 리스트 요소 추출하기(인덱싱은 0부터)  \n",
    "1  \n",
    ">>> squares[-1] 마지막 요소  \n",
    "25  \n",
    ">>> squares[0:3] 0부터(3-1)까지 잘라내기  \n",
    "[1, 4, 9]  \n",
    ">>> squares[-3:] 뒤에서 3번째부터 마지막까지 잘라내기  \n",
    "[9, 16, 25]  \n"
   ]
  },
  {
   "cell_type": "markdown",
   "id": "51c06d24",
   "metadata": {},
   "source": [
    "❖ 리스트 합치기  \n",
    "  \n",
    ">>> squares + [36, 49, 64, 81, 100] 리스트 합치기  \n",
    "[1, 4, 9, 16, 25, 36, 49, 64, 81, 100]  \n",
    ">>> a = [1, 2, 3]  \n",
    ">>> b = [4, 5, 6]  \n",
    ">>> a + b 리스트 합치기  \n",
    "[1, 2, 3, 4, 5, 6]  "
   ]
  },
  {
   "cell_type": "markdown",
   "id": "003989cb",
   "metadata": {},
   "source": [
    "❖ 중첩 리스트  \n",
    "  \n",
    ">>> a = ['a', 'b', 'c']  \n",
    ">>> n = [1, 2, 3]  \n",
    ">>> x = [a, n]  \n",
    ">>> x  \n",
    "[['a', 'b', 'c'], [1, 2, 3]] 리스트 요소가 리스트이다  \n",
    ">>> x[0]  \n",
    "['a', 'b', 'c']  \n",
    ">>> x[0][1] 중첩 리스트 요소 지정  \n",
    "'b'  "
   ]
  },
  {
   "cell_type": "markdown",
   "id": "8b46fb83",
   "metadata": {},
   "source": [
    "❖ 2차원 리스트  \n",
    "  \n",
    "list2d = [[1,2,3], 배열을 나타낼 때 편리  \n",
    "[4,5,6],  \n",
    "[7,8,9]]  \n",
    ">>> list2d[0][0] 1  \n",
    ">>> list2d[2][2] 9  \n",
    ">>>  "
   ]
  },
  {
   "cell_type": "markdown",
   "id": "f1ebcc13",
   "metadata": {},
   "source": [
    "❖ 내장 함수를 이용한 리스트 다루기  \n",
    "  \n",
    "리스트 길이 알아내기  \n",
    ">>> letters = ['a', 'b', 'c', 'd']  \n",
    ">>> len(letters)  \n",
    "4  \n",
    "  \n",
    "리스트 요소 합, 최소값, 최대값 구하기  \n",
    ">>> num = [1, 2, 3, 4, 5]  \n",
    ">>> sum(num)  \n",
    "15  \n",
    ">>> min(num)  \n",
    "1  \n",
    ">>> max(num)  \n",
    "5  "
   ]
  },
  {
   "cell_type": "markdown",
   "id": "d4bfc79b",
   "metadata": {},
   "source": [
    "❖ 리스트 메소드 사용법 확인하기  \n",
    "  \n",
    ">>>  help(list.sort)"
   ]
  },
  {
   "cell_type": "markdown",
   "id": "f772e6a6",
   "metadata": {},
   "source": [
    "❖ 튜플은 리스트와 비슷한 자료구조이나 요소 값을 변경할 수 없다  \n",
    "❖ 튜플 만들기  \n",
    "  \n",
    ">>> t1 = (1,2,3) ( ) 속에 요소를 나열하여 만든다  \n",
    ">>> t1  \n",
    "(1, 2, 3)  \n",
    ">>> t2 = 1,2,3 () 없이 요소를 나열해서 만들 수도 있다. 패킹  \n",
    ">>> t2  \n",
    "(1, 2, 3)  \n",
    ">>> t3 = 1, 요소가 한 개인 경우 ,를 붙인다  \n",
    ">>> t3  \n",
    "(1, )  \n",
    ">>> t4 = tuple() #빈 튜플 생성  "
   ]
  },
  {
   "cell_type": "markdown",
   "id": "db65346b",
   "metadata": {},
   "source": [
    "❖ 튜플 요소 접근하기(인덱싱과 슬라이싱)  \n",
    "  \n",
    ">>> t1 = (1,2,3)  \n",
    ">>> t1[1]    \n",
    "2  \n",
    ">>> t1[1:3]  \n",
    "(2,3)  \n",
    "  \n",
    "❖ 튜플 연산  \n",
    ">>> t1 = (1,2,3)  \n",
    ">>> t2 = ('a','b')  \n",
    ">>> t1 + t2 두 개의 튜플을 하나로 합치기  \n",
    "(1, 2, 3,'a','b')  \n",
    ">>> t1*2 동일한 튜플을 하나 더 생성하여 합치기  \n",
    "(1,2,3,1,2,3)  "
   ]
  },
  {
   "cell_type": "markdown",
   "id": "6f390aa4",
   "metadata": {},
   "source": [
    "❖ 튜플과 리스트 상호 변환  \n",
    "  \n",
    ">>> T1=(1,2,3)  \n",
    ">>> L1=list(T1) 튜플을 리스트로 변환  \n",
    ">>> L1.append(4)  \n",
    ">>> T1=tuple(L1) 리스트를 튜플로 변환  \n",
    ">>> T1  \n",
    "(1, 2, 3, 4)  \n",
    "  \n",
    "❖ 튜플 언패킹  \n",
    ">>> a, b, c = (1, 2, 3) 튜플의 요소를 하나씩 변수에 할당.  \n",
    "언패킹  \n",
    ">>> a  \n",
    "1  \n",
    ">>> b  \n",
    "2  \n",
    ">>> c  \n",
    "3  "
   ]
  },
  {
   "cell_type": "markdown",
   "id": "02c92c16",
   "metadata": {},
   "source": [
    "❖ 딕셔너리(dictionary)  \n",
    "❖ 키(key):값(value)로 구성되는 자료 구조  \n",
    "• {key1: value1, key2: value2}  \n",
    "  \n",
    "❖ 키는 정수, 실수, 문자열, 튜플  \n",
    "❖ 값은 임의의 데이터형  \n",
    "  \n",
    "❖ 딕셔너리 생성  \n",
    "  \n",
    ">>> height = {'Jun':174, 'Kim':170, 'Lee':165} {key:value}  \n",
    ">>> height  \n",
    "{'Jun': 174, 'Kim': 170, 'Lee': 165}  \n",
    ">>> test = dict() 빈 딕셔너리 생성, a = {}  \n",
    ">>> test  \n",
    "{}  \n",
    "  \n",
    "\n",
    "❖ 딕셔너리 key 값 조사하기  \n",
    "  \n",
    ">>> height['Kim']      # Dict[key]로 값 조사하기  \n",
    "170  "
   ]
  },
  {
   "cell_type": "markdown",
   "id": "8eb454a8",
   "metadata": {},
   "source": [
    "❖ 집합(set)  \n",
    "- {} 속에 요소들을 중복되지 않고 순서없이 모아놓은 자료 구조  \n",
    "  \n",
    "❖ 집합의 생성  \n",
    "\n",
    "numbers = {1,2,3}  \n",
    "name = set(['Kim', 'Lee', 'Park'])   \n",
    "  \n",
    "❖ 빈 집합 생성, 개수 확인, 요소 추가, 요소 제거하기  \n",
    "  \n",
    ">>> empty = set() #빈 집합 생성  \n",
    ">>> numbers = {1,2,3}  \n",
    ">>> len(numbers)  \n",
    "3  \n",
    ">>> numbers.add(4) #요소 추가  \n",
    ">>> numbers  \n",
    "{1, 2, 3, 4}  \n",
    ">>> numbers.remove(4) #요소 제거  \n",
    ">>> numbers  \n",
    "{1, 2, 3}  \n",
    "\n"
   ]
  },
  {
   "cell_type": "markdown",
   "id": "c11456d0",
   "metadata": {},
   "source": [
    "❖ 집합의 연산  \n",
    "  \n",
    ">>> setA={1,2,3}  \n",
    ">>> setB={2,3,4}  \n",
    ">>> setA & setB 교집합. setA.intersection(setB)  \n",
    "{2, 3}  \n",
    ">>> setA | setB 합집합 . setA.union(setB)  \n",
    "{1, 2, 3, 4}  \n",
    ">>> setA - setB 차집합. setA에서 setB 요소를 뺀 나머지.  \n",
    "setA.difference(setB)  \n",
    "{1}  "
   ]
  },
  {
   "cell_type": "markdown",
   "id": "a5b78619",
   "metadata": {},
   "source": [
    "❖ 부분 집합 연산  \n",
    "  \n",
    ">>> setA = {1, 2, 3}  \n",
    ">>> setB = {1, 2, 3}  \n",
    ">>> setA == setB 두 개의 집합이 같은가?  \n",
    "True  \n",
    ">>> setA = {1, 2, 3, 4, 5, 6}  \n",
    ">>> setB = {1, 2, 3}  \n",
    ">>> setB < setA 집합 B가 집합 A의 부분집합인가?  \n",
    "True  \n",
    ">>> setB.issubset(setA) 집합 B가 집합 A의 부분집합인가?  \n",
    "True  "
   ]
  },
  {
   "cell_type": "markdown",
   "id": "e331775a",
   "metadata": {},
   "source": []
  }
 ],
 "metadata": {
  "language_info": {
   "name": "python"
  }
 },
 "nbformat": 4,
 "nbformat_minor": 5
}
