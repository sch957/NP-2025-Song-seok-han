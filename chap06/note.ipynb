{
 "cells": [
  {
   "cell_type": "markdown",
   "id": "dee180ef",
   "metadata": {},
   "source": [
    "# 6장 노트정리   \n",
    "이 파일은 6장 학습하면서 실행한 내용을 정리한 것이다.\n",
    "\n",
    "날짜 : 2025.9.24\n",
    "\n",
    "저자 : 송석한"
   ]
  },
  {
   "cell_type": "markdown",
   "id": "dc0e6bbb",
   "metadata": {},
   "source": [
    "❖ 객체지향 프로그램은 객체(object)의 속성(변수)과 동작(함수)을 나타내는 클래스를   \n",
    "정의하고, 이로부터 객체를 생성(인스턴스화; Instantiation)하여 작성한 프로그램  \n",
    "❖ 클래스와 객체는 풀빵틀과 풀빵의 관계  \n",
    "❖ 클래스의 동작을 나타내는 함수를 메소드(method)라 한다  \n",
    "❖ 클래스는 다른 클래스로부터 상속받을 수 있다. 상속 클래스는 부모 클래스가 갖지   \n",
    "않는 속성과 메소드를 가질 수 있다.  \n",
    "❖ 객체는 클래스의 속성과 메소드를 갖는다  \n",
    "❖ 객체는 일반 변수처럼 사용된다. 함수의 인자로 사용되고, 함수에서 객체를 반환  \n",
    "할 수도 있다. 튜플이나 딕셔너리의 요소로 사용될 수 있다.  "
   ]
  },
  {
   "cell_type": "markdown",
   "id": "375daacc",
   "metadata": {},
   "source": [
    "❖ 클래스 정의  \n",
    "class 클래스이름(부모 클래스) : class 키워드로 정의  \n",
    "클래스 몸체  \n",
    "➊ 클래스는 class 키워드로 정의된다. 부모 클래스는 없으면 생략  \n",
    "➋ 클래스 몸체는 변수와 메소드로 구성  \n"
   ]
  },
  {
   "cell_type": "code",
   "execution_count": null,
   "id": "8a115431",
   "metadata": {},
   "outputs": [],
   "source": [
    "# 클래스의 예\n",
    "class Car :\n",
    " def __init__(self, color, speed):      # 초기화 메소드. self는 객체를 나타냄\n",
    "    self.color = color                  # 인스턴스 변수 정의\n",
    "    self.speed = speed\n",
    " def speedUp(self, v):                  # 메소드의 첫 번째 매개변수는 self\n",
    "    self.speed = self.speed + v\n",
    "    return self.speed\n",
    " def speedDown(self, v):\n",
    "    self.speed = self.speed - v         # 다른 메소드에서 정의된 변수 접근\n",
    "    return self.speed"
   ]
  },
  {
   "cell_type": "markdown",
   "id": "95fb1031",
   "metadata": {},
   "source": [
    "❖ 클래스 객체  \n",
    "• 클래스를 인스턴스화(instantiation)하여 만들어진 것을 객체(object)라 한다  \n",
    "• 객체는 클래스의 변수와 메소드에 접근할 수 있다  \n",
    "  \n",
    ">>> class Test: #클래스 정의  \n",
    " name = \"홍길동\" #클래스 속성  \n",
    ">>> t = Test() #객체 생성  \n",
    ">>> print(t.name) #객체에서 클래스 속성 접근  \n",
    "홍길동  "
   ]
  },
  {
   "cell_type": "code",
   "execution_count": null,
   "id": "d836a5e4",
   "metadata": {},
   "outputs": [],
   "source": []
  },
  {
   "cell_type": "markdown",
   "id": "eefbf016",
   "metadata": {},
   "source": [
    "❖ 클래스 상속 예제  \n",
    "• People 클래스에서 상속 받아 Teacher 클래스 정의  \n",
    "• 부모 클래스 호출: super().method(args)/People.method(self, args)  "
   ]
  },
  {
   "cell_type": "code",
   "execution_count": null,
   "id": "1f63b112",
   "metadata": {},
   "outputs": [],
   "source": [
    "class People :\n",
    " def __init__(self, age=0, name=None):\n",
    " self.__age = age\n",
    " self.__name = name\n",
    " def introMe(self):\n",
    " print(\"Name :\", self.__name, \"age :\", str(self.__age))\n",
    "class Teacher(People) :\n",
    " def __init__(self, age=0, name=None, school=None) :\n",
    " super().__init__(age, name)                                # 부모 클래스의 속성 할당. self 없음\n",
    " self.school = school                                       # 자신의 인스턴스 변수 추가\n",
    " def showSchool(self):\n",
    " print(\"My School is \", self.school)"
   ]
  },
  {
   "cell_type": "markdown",
   "id": "2a53e108",
   "metadata": {},
   "source": [
    "❖ 클래스 상속 예제  \n",
    "• 상속 메소드 호출  "
   ]
  },
  {
   "cell_type": "code",
   "execution_count": null,
   "id": "7e9dbd4b",
   "metadata": {},
   "outputs": [],
   "source": [
    ">>> p1 = People(29, \"Lee\") # ➊ People 객체\n",
    ">>> p1.introMe() # ➋ People.introMe() 호출\n",
    "Name : Lee age : 29\n",
    ">>> t1 = Teacher(48, \"Kim\", \"HighSchool\") # ➌ Teacher 객체\n",
    ">>> t1.introMe() # ➍ People.introMe() 호출\n",
    "Name : Kim age : 48\n",
    ">>> t1.showSchool() # ➎ Teacher.showSchool() 호출\n",
    "My School is HighSchool\n",
    "\n",
    "\n",
    "# ➍에서 Teacher 클래스에는 introMe()가 정의되어 있지 않으나 부모 클래스인\n",
    "# People의 introMe()를 상속 받았으므로 t1에서 introMe() 호출 가능\n",
    "\n",
    "# ➎에서 Teacher 클래스에 추가된 showSchool() 메소드 호출"
   ]
  },
  {
   "cell_type": "markdown",
   "id": "7a3b5d18",
   "metadata": {},
   "source": [
    "❖ 메소드 오버라이딩(Method Overriding)  \n",
    "• 자식클래스에서 부모클래스의 메소드를 수정해 다시 정의하는 것  \n",
    "• Student 클래스에서 People 클래스의 introMe() 메소드를 재정의하여 사용  "
   ]
  },
  {
   "cell_type": "code",
   "execution_count": null,
   "id": "df740f0c",
   "metadata": {},
   "outputs": [],
   "source": [
    "class People : #부모 클래스\n",
    " def __init__(self, age=0, name=None):\n",
    " self.__age = age\n",
    " self.__name = name\n",
    " def introMe(self):\n",
    " print(\"Name :\", self.__name, \"age :\", str(self.__age))\n",
    "class Student(People) : #자식 클래스\n",
    " def __init__(self, age=0, name=None, grade=None):\n",
    " super().__init__(age, name)\n",
    " self.__grade = grade #자식 클래스의 변수\n",
    " def introMe(self): # 부모 클래스 메소드를 재정의(오버라이딩)\n",
    " super().introMe()\n",
    " print(\"Grade : \", self.__grade)"
   ]
  },
  {
   "cell_type": "markdown",
   "id": "1ac8bd1d",
   "metadata": {},
   "source": [
    "❖ 오버라이딩 메소드 호출"
   ]
  },
  {
   "cell_type": "code",
   "execution_count": null,
   "id": "6f24fd89",
   "metadata": {},
   "outputs": [],
   "source": [
    "p1 = People(29, \"Lee\")\n",
    "p1.introMe() # ➊ People의 introMe() 호출\n",
    "s1 = Student(17, \"Park\", 2)\n",
    "s1.introMe() # ➋ Student의 introMe() 호출\n",
    "Name : Lee age : 29\n",
    "Name : Park age : 17 Grade: 2"
   ]
  },
  {
   "cell_type": "markdown",
   "id": "0a5e28a7",
   "metadata": {},
   "source": [
    "❖ 전달된 인자에 따라 함수 또는 연산의 기능이 달라지는 기능  \n",
    "• 2 + 3 → 5  \n",
    "• '2' + '3' → '23'  \n",
    "• 'Hello ' + 'World' → 'Hello World'  "
   ]
  },
  {
   "cell_type": "markdown",
   "id": "46433238",
   "metadata": {},
   "source": [
    "### ❖ 가시성  \n",
    "  \n",
    "❖ 파이썬은 C++/자바와 달리 접근 제어자(public, protected, private)가 엄격하게 적용되지 않습니다.   \n",
    "하지만 관례적으로 다음과 같이 가시성을 표현 \n",
    "   \n",
    "• public: 이름 앞에 밑줄 없음 (예: value)  \n",
    "→ 어디서나 접근 가능  \n",
    "  \n",
    "• protected: 이름 앞에 밑줄 1개 (예: _value)  \n",
    "→ 하위 클래스에서 접근 권장, 외부에서 직접 접근은 권장하지 않음  \n",
    "  \n",
    "• private: 이름 앞에 밑줄 2개 (예: __value)  \n",
    "→ 클래스 내부에서만 접근, 이름이 맹글링(name mangling)되어 외부/하위 클래스에서 직접 접근 어렵게 만듦  \n"
   ]
  },
  {
   "cell_type": "markdown",
   "id": "26384295",
   "metadata": {},
   "source": [
    "### ❖ 가시성 예제"
   ]
  },
  {
   "cell_type": "code",
   "execution_count": null,
   "id": "c7ff8eed",
   "metadata": {},
   "outputs": [],
   "source": [
    "class Base:\n",
    "    def __init__(self):\n",
    "        self.public_value = 1           # public\n",
    "        self._protected_value = 2       # protected\n",
    "        self.__private_value = 3        # private\n",
    "class Child(Base):\n",
    "    def show(self):\n",
    "        print(self.public_value)        # 가능\n",
    "        print(self._protected_value)    # 가능\n",
    "        # print(self.__private_value)   # 불가 (AttributeError)\n",
    "class Other:\n",
    "    def show(self, obj: Base):\n",
    "        print(obj.public_value)         # 가능\n",
    "        print(obj._protected_value)     # 가능 (하지만 권장되지 않음)\n",
    "        # print(obj.__private_value)    # 불가 (AttributeError)    "
   ]
  },
  {
   "cell_type": "markdown",
   "id": "82fb0f3c",
   "metadata": {},
   "source": [
    "### ❖ 추상 함수  \n",
    "  \n",
    "❖ 파이썬에서 추상 메서드(abstract method)  \n",
    "• abc 모듈의 ABC(Abstract Base Class)와 @abstractmethod 데코레이터 (Java 의 annotation)를 사용해 정의  \n",
    "• 추상 메서드는 반드시 하위 클래스에서 구현해야 하며, 직접 인스턴스화할 수 없음  "
   ]
  },
  {
   "cell_type": "markdown",
   "id": "51b1d7de",
   "metadata": {},
   "source": [
    "### ❖ 추상함수 예제"
   ]
  },
  {
   "cell_type": "code",
   "execution_count": null,
   "id": "a9a3bdd3",
   "metadata": {},
   "outputs": [],
   "source": [
    "from abc import ABC, abstractmethod\n",
    "\n",
    "\n",
    "class Animal(ABC):\n",
    "    @abstractmethod\n",
    "    def sound(self):\n",
    "        pass\n",
    "\n",
    "\n",
    "class Dog(Animal):\n",
    "    def sound(self):\n",
    "        return \"멍멍\"\n",
    "\n",
    "\n",
    "# a = Animal() # 에러: 추상 클래스는 인스턴스화 불가\n",
    "d = Dog()\n",
    "print(d.sound()) # \"멍멍\""
   ]
  },
  {
   "cell_type": "markdown",
   "id": "fcdaf8d2",
   "metadata": {},
   "source": [
    "### ❖ 정적 멤버  \n",
    "  \n",
    "❖ 파이썬에서 정적 메서드  \n",
    "• 파이썬에서 static member(정적 멤버, 클래스 변수)는 클래스 전체에서 공유되는 변수  \n",
    "• 클래스 변수, 클래스 메소드라고 함  \n",
    "• 메서드의 경우 @staticmethod 데코레이터를 사용해 정적 메서드를 정의  \n",
    "• 정적 변수는 클래스 안에 self 가 아닌 일반 변수로 선언하고 클래스.변수 형태로 접근  "
   ]
  },
  {
   "cell_type": "markdown",
   "id": "a98461ef",
   "metadata": {},
   "source": [
    "### ❖ 정적 멤버 예제"
   ]
  },
  {
   "cell_type": "code",
   "execution_count": null,
   "id": "1e24242f",
   "metadata": {},
   "outputs": [],
   "source": [
    "class Counter:\n",
    "    count = 0 # 클래스 변수(정적 멤버)\n",
    "\n",
    "    def __init__(self):\n",
    "        self.__object_counter = 1 # public\n",
    "    \n",
    "    @staticmethod\n",
    "    def increment_class():\n",
    "        Counter.count += 1\n",
    "    def increment_object(self):\n",
    "        self.__object_counter += 1 # private\n",
    "\n",
    "if __name__ == \"__main__\":\n",
    "    Counter.increment_class()\n",
    "    print(Counter.count) # 1\n",
    "    \n",
    "    c = Counter() # 인스턴스 생성\n",
    "    print(c.object_counter) # 1\n",
    "    c.increment_object()\n",
    "    print(c.__object_counter) # private 접근 불가"
   ]
  },
  {
   "cell_type": "markdown",
   "id": "168cc771",
   "metadata": {},
   "source": [
    "### ❖ Dunder  \n",
    "• Double Underlines 의 약자  \n",
    "• 파이썬에서는 Underline은 특별한 의미로 사용할 때가 많음  \n",
    "• __XXX__ 메소드는 자동으로 호출되는 경우가 많음  \n",
    "• 이러한 메소드를 재정의 하여 사용자 코드를 수행하도록 할 수 있음  "
   ]
  },
  {
   "cell_type": "markdown",
   "id": "0a05a9f4",
   "metadata": {},
   "source": [
    "### ❖ Dunder Methods 예 : dir(object)  \n",
    "• __init__(self,…) : 클래스 생성함수, 객체 만들어질 때 자동 실행  \n",
    "• __str__(self) : 클래스 객체를 문자열로 형병변환 할 때 자동 실행  \n",
    "• __eq__(self,other) : 이 객체와 다른 객체를 같은지 여부  \n",
    "• __gt__(self,other) : 이 객체가 다른 객체보다 큰지 여부  "
   ]
  },
  {
   "cell_type": "markdown",
   "id": "3c7b7ad2",
   "metadata": {},
   "source": [
    "### ❖ Dunder methods : 예제"
   ]
  },
  {
   "cell_type": "code",
   "execution_count": null,
   "id": "1c75a738",
   "metadata": {},
   "outputs": [],
   "source": [
    "class Student:\n",
    "    def __init__(self, name, age):\n",
    "            self.name = name\n",
    "        self.age = age\n",
    "    def __str__(self):\n",
    "        return f\"Student(name={self.name}, age={self.age})\"\n",
    "    def __eq__(self, other):\n",
    "        if isinstance(other, Student):\n",
    "            return self.name == other.name and self.age == other.age\n",
    "            return False\n",
    "    def __del__(self):\n",
    "        print(f\"Student {self.name} is being deleted\")\n",
    "\n",
    "\n",
    "if __name__ == \"__main__\":\n",
    "    student1 = Student(\"Alice\", 20)\n",
    "    student2 = Student(\"Bob\", 22)\n",
    "    student3 = Student(\"Alice\", 20)\n",
    "    \n",
    "    print(student1) # Calls __str__\n",
    "    print(student2) # Calls __str__\n",
    "    \n",
    "    print(student1 == student2) # Calls __eq__\n",
    "    print(student1 == student3) # Calls __eq__\n",
    "    \n",
    "    del student1 # Calls __del_"
   ]
  },
  {
   "cell_type": "markdown",
   "id": "b8f59c75",
   "metadata": {},
   "source": [
    "### ❖ 파이썬 데코레이터  \n",
    "  \n",
    "❖ 파이썬 데코레이터(decorator)는 함수나 클래스의 동작을 수정하거나 확장할 때 사용하는 문법  \n",
    "• 함수(또는 메서드) 정의 위에 @데코레이터이름 형태로 사용  \n",
    "• 해당 함수가 호출될 때 데코레이터 함수 내에서 해당 함수가 실행  \n",
    "• 데코레이터 함수의 정의는 다음 형식을 따라 wrapper 이름의 멤버 메소드를 정의  "
   ]
  },
  {
   "cell_type": "code",
   "execution_count": null,
   "id": "adea76c8",
   "metadata": {},
   "outputs": [],
   "source": [
    "def deco_func (func) :\n",
    "    def wrapper(*args, **kwargs) :\n",
    "        # ...\n",
    "        result = func(*args, **kwargs)\n",
    "        # ...\n",
    "        return result\n",
    "    return wrapper"
   ]
  },
  {
   "cell_type": "markdown",
   "id": "d93d6a62",
   "metadata": {},
   "source": [
    "### ❖ 파이썬 데코레이터 예제"
   ]
  },
  {
   "cell_type": "code",
   "execution_count": null,
   "id": "6d33365b",
   "metadata": {},
   "outputs": [],
   "source": [
    "def simple_decorator(func):\n",
    "    def wrapper():\n",
    "        print(\"함수 실행전\")\n",
    "        result= func()\n",
    "        print(\"함수 실행\")\n",
    "        return result\n",
    "    return wrapper\n",
    "\n",
    "@simple_decorator\n",
    "def say_hello():\n",
    "    print(\"Hello, World!\")\n",
    "if __name__ == \"__main__\":\n",
    "    print(\"=== 예제 1: 기본 데코레이터 ===\")\n",
    "    say_hello()\n",
    "# 함수 실행 전\n",
    "# Hello, World!\n",
    "# 함수 실행 후"
   ]
  }
 ],
 "metadata": {
  "language_info": {
   "name": "python"
  }
 },
 "nbformat": 4,
 "nbformat_minor": 5
}
