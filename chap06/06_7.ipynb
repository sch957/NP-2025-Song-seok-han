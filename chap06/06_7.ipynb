{
 "cells": [
  {
   "cell_type": "markdown",
   "id": "796b24ed",
   "metadata": {},
   "source": [
    "### 연습문제 6-9\n",
    "  \n",
    "❖ 파이썬 언어에서 다음에 대해 조사하고 예제코드를 실행하여 보라  \n",
    "• 1. 파이썬으로 싱글톤 패턴을 구현하는 방법들  \n",
    "• 2. 파이썬에서 멀티쓰레드 구현하는 기법  \n",
    "• 3. 멀티쓰레드에서 공유 변수에 대한 Critical Section 을 보호하는 기법  \n",
    "  \n",
    "\n"
   ]
  },
  {
   "cell_type": "markdown",
   "id": "cb5695b2",
   "metadata": {},
   "source": [
    "### 1️. 파이썬에서 싱글톤 패턴 구현 방법  \n",
    "  \n",
    "싱글톤은 객체가 단 하나만 존재하도록 제한하는 디자인 패턴  \n",
    "파이썬에서는 여러 방식으로 구현 가능  "
   ]
  },
  {
   "cell_type": "code",
   "execution_count": null,
   "id": "cf1db5a9",
   "metadata": {},
   "outputs": [],
   "source": [
    "# 방법 1: 클래스 변수 사용\n",
    "\n",
    "class Singleton:\n",
    "    __instance = None  # 클래스 변수로 인스턴스 저장\n",
    "\n",
    "    def __new__(cls, *args, **kwargs):\n",
    "        if cls.__instance is None:  # 아직 인스턴스가 없으면 생성\n",
    "            cls.__instance = super().__new__(cls)\n",
    "        return cls.__instance\n",
    "\n",
    "a = Singleton()\n",
    "b = Singleton()\n",
    "print(a is b)  # True, 같은 인스턴스\n"
   ]
  },
  {
   "cell_type": "code",
   "execution_count": null,
   "id": "94373ec0",
   "metadata": {},
   "outputs": [],
   "source": [
    "# 방법 2: 데코레이터 사용\n",
    "\n",
    "def singleton(cls):\n",
    "    instances = {}\n",
    "    def wrapper(*args, **kwargs):\n",
    "        if cls not in instances:\n",
    "            instances[cls] = cls(*args, **kwargs)\n",
    "        return instances[cls]\n",
    "    return wrapper\n",
    "\n",
    "@singleton\n",
    "class MyClass:\n",
    "    pass\n",
    "\n",
    "x = MyClass()\n",
    "y = MyClass()\n",
    "print(x is y)  # True\n"
   ]
  },
  {
   "cell_type": "markdown",
   "id": "c896328c",
   "metadata": {},
   "source": [
    "### 2️. 파이썬에서 멀티쓰레드 구현 기법\n",
    "\n",
    "파이썬에서는 threading 모듈을 주로 사용"
   ]
  },
  {
   "cell_type": "code",
   "execution_count": null,
   "id": "8ff4fd44",
   "metadata": {},
   "outputs": [],
   "source": [
    "import threading\n",
    "import time\n",
    "\n",
    "def worker(num):\n",
    "    for i in range(3):\n",
    "        print(f\"Thread {num} 작업 중 {i}\")\n",
    "        time.sleep(1)\n",
    "\n",
    "# 쓰레드 생성\n",
    "t1 = threading.Thread(target=worker, args=(1,))\n",
    "t2 = threading.Thread(target=worker, args=(2,))\n",
    "\n",
    "t1.start()\n",
    "t2.start()\n",
    "\n",
    "t1.join()\n",
    "t2.join()\n",
    "\n",
    "print(\"모든 쓰레드 작업 종료\")\n"
   ]
  },
  {
   "cell_type": "markdown",
   "id": "deaa6e3c",
   "metadata": {},
   "source": [
    "### 3️ 멀티쓰레드에서 공유 변수 Critical Section 보호  \n",
    "  \n",
    "멀티쓰레드에서 여러 쓰레드가 동시에 접근하면 데이터가 꼬이는 문제가 생깁니다.  \n",
    "이를 Critical Section이라 하고, Lock을 사용해 보호  "
   ]
  },
  {
   "cell_type": "code",
   "execution_count": null,
   "id": "59d002b1",
   "metadata": {},
   "outputs": [],
   "source": [
    "import threading\n",
    "\n",
    "counter = 0\n",
    "lock = threading.Lock()  # 락 생성\n",
    "\n",
    "def increment():\n",
    "    global counter\n",
    "    for _ in range(100000):\n",
    "        with lock:  # 락을 획득\n",
    "            counter += 1\n",
    "\n",
    "threads = []\n",
    "for i in range(5):\n",
    "    t = threading.Thread(target=increment)\n",
    "    threads.append(t)\n",
    "    t.start()\n",
    "\n",
    "for t in threads:\n",
    "    t.join()\n",
    "\n",
    "print(\"최종 counter:\", counter)\n"
   ]
  }
 ],
 "metadata": {
  "language_info": {
   "name": "python"
  }
 },
 "nbformat": 4,
 "nbformat_minor": 5
}
