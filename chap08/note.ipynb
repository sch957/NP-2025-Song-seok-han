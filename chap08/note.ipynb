{
 "cells": [
  {
   "cell_type": "markdown",
   "id": "55634a71",
   "metadata": {},
   "source": [
    "# 8장 노트정리   \n",
    "이 파일은 8장 학습하면서 실행한 내용을 정리한 것이다.\n",
    "\n",
    "날짜 : 2025.10.15\n",
    "\n",
    "저자 : 송석한"
   ]
  },
  {
   "cell_type": "markdown",
   "id": "7dfad80b",
   "metadata": {},
   "source": [
    "❖ 예외(exception)란?  \n",
    "• 프로그램 실행 도중에 오류가 발생하면 생성되는 특별한 객체  \n",
    "- print(1/0)을 실행하면 ZeroDivisionError 예외 발생  \n",
    "• 예외가 발생하면 파이썬은 프로그램 실행을 중단한다.  \n",
    "• 예외처리란 예외가 발생했을 때 프로그램 실행을 중단하지 않고 처리하는 방법을 정의한 프로  \n",
    "그램 부분  \n",
    "  \n",
    "• 예외의 종류  \n",
    "- ZeroDivisionError 0으로 나눌 때  \n",
    "- IndexError 인덱스가 범위를 벗어날 때  \n",
    "- FileNotFoundError 존재하지 않는 파일을 열려고 할 때  \n",
    "- ValueError 원하는 값을 입력 받지 못할 때  \n",
    "- NameError 정의되지 않은 변수를 사용할 때  \n",
    "- TypeError 데이터형이 맞지 않는 연산을 할 때  "
   ]
  },
  {
   "cell_type": "markdown",
   "id": "2966461e",
   "metadata": {},
   "source": [
    "❖ 여러가지 예외"
   ]
  },
  {
   "cell_type": "code",
   "execution_count": null,
   "id": "70193a7f",
   "metadata": {},
   "outputs": [],
   "source": [
    ">>> 5/0\n",
    "ZeroDivisionError: division by zero\n",
    ">>> a=[0,1,2]\n",
    ">>> a[3]\n",
    "IndexError: list index out of range\n",
    ">>> fp=open(\"Nofile.txt\",\"r\")\n",
    "FileNotFoundError: [Errno 2] No such file or directory: 'Nofile.txt'\n",
    ">>> int(input('Type float number or string : '))\n",
    "Type float number or string : 1.23\n",
    "ValueError: invalid literal for int() with base 10: '1.23'\n",
    ">>> 1 + var*2\n",
    "NameError: name 'var' is not defined\n",
    ">>> \"str\"+1\n",
    "TypeError: can only concatenate str (not \"int\") to str"
   ]
  },
  {
   "cell_type": "markdown",
   "id": "ec8871e7",
   "metadata": {},
   "source": [
    "❖ 예외처리(1)  \n",
    "• try-except/try-except-else 문  "
   ]
  },
  {
   "cell_type": "code",
   "execution_count": null,
   "id": "b2a9872a",
   "metadata": {},
   "outputs": [],
   "source": [
    "try:\n",
    "    a = 1 / b                          # ➊\n",
    "except ZeroDivisionError:\n",
    "    print(\"0으로 나눌 수 없습니다\")     # ➋\n",
    "else:\n",
    "    print(a)                           # ➌"
   ]
  },
  {
   "cell_type": "markdown",
   "id": "3e2d213c",
   "metadata": {},
   "source": [
    "• ➊ a=1/b를 실행하고 ZeroDivisionError 예외가 발생하면 ➋ 문장 실행  \n",
    "• ZeroDivisionError가 아닌 다른 예외가 발생하면 프로그램 중단  \n",
    "• 예외가 발생하지 않으면 ➌ 문장 실행  \n",
    "• else: 블록은 생략 가능  \n",
    "• except ZeroDivisionError: 에서 ZeroDivisionError를 생략하면 모든 예외에 대해 ➋ 문장 실행  "
   ]
  },
  {
   "cell_type": "markdown",
   "id": "d2d27090",
   "metadata": {},
   "source": [
    "❖ 예외처리(1)  \n",
    "• 예외를 알 수 없는 경우 try-except-else 문  "
   ]
  },
  {
   "cell_type": "code",
   "execution_count": null,
   "id": "afcc3e37",
   "metadata": {},
   "outputs": [],
   "source": [
    "try:\n",
    "    a = int(input(\"Type a Number: \"))   # ➊\n",
    "except Exception as e: ➋\n",
    "    print(\"예외가 발생했습니다\", e)      # ➌\n",
    "else:\n",
    "    print(a)                            # ➍"
   ]
  },
  {
   "cell_type": "markdown",
   "id": "b0223036",
   "metadata": {},
   "source": [
    "• Try 블록: ➊을 실행하고 예외가 발생하면  \n",
    "• Except 블록: 어떤 종류의 예외 ➋ 가 발생하면 예외객체를 e로 받고 ➌ 문장 실행  \n",
    "- 예외의 종류는 모르지만 예외가 발생할 이유를 알고 싶을 때 ➋와 같이 사용. e는 예외와 관련된 메시지 저장  \n",
    "• Else 블록: 예외가 발생하지 않으면 ➌ 문장 실행  "
   ]
  },
  {
   "cell_type": "markdown",
   "id": "39757ba2",
   "metadata": {},
   "source": [
    "❖ 예외처리(1) • 복합 try-except문"
   ]
  },
  {
   "cell_type": "code",
   "execution_count": null,
   "id": "9a1946fe",
   "metadata": {},
   "outputs": [],
   "source": [
    "import sys\n",
    "try:\n",
    "    fp = open('sample.txt')\n",
    "    sl = fp.readline()\n",
    "    value = int(sl.strip())\n",
    "except OSError as err:\n",
    "    print(\"OS 오류: \", err)                    # ➊\n",
    "except ValueError:\n",
    "    print(\"정수로 변환할수 없습니다\")           # ➋\n",
    "except: # Unknown Exception Occured\n",
    "    print(\"알수 없는 오류가 발생하였습니다\")    # ➌"
   ]
  },
  {
   "cell_type": "markdown",
   "id": "31e00265",
   "metadata": {},
   "source": [
    "• try: 블록 실행 결과 OSError 예외가 발생하면  \n",
    "➊문장 실행  \n",
    "• Except: ValueError 예외가 발생하면  \n",
    "➋문장 실행  \n",
    "• 기타 예외가 발생하면  \n",
    "➌문장 실행  "
   ]
  },
  {
   "cell_type": "markdown",
   "id": "f41079f5",
   "metadata": {},
   "source": [
    "❖ 예외처리(2)  \n",
    "• try-except-finally 문  "
   ]
  },
  {
   "cell_type": "code",
   "execution_count": null,
   "id": "d35d132d",
   "metadata": {},
   "outputs": [],
   "source": [
    "try:\n",
    "    result = x / y                      # ➊\n",
    "except ZeroDivisionError:\n",
    "    print(\"0으로 나눌 수 없습니다\")      # ➋\n",
    "except:\n",
    "    print(result)                       # ➌\n",
    "finally:\n",
    "    print(\"예외처리가 끝났습니다\")       # ➍"
   ]
  },
  {
   "cell_type": "markdown",
   "id": "a934db25",
   "metadata": {},
   "source": [
    "• Try 블록: ➊문장을 실행하고 ZeroDivisionError  \n",
    "• Except 블록: ZeroDivisionError 예외가 발생하면 ➋ 문장 실행  \n",
    "• Except 블록2: 예외 객체가 지정되지 않은 예외가 발생하면 ➌ 문장 실행  \n",
    "• Finally 블록: 예외 발생에 관계없이 항상 ➍ 문장 실행. 따라서 finally 블록은 항상 실행됨  \n",
    "• except-else 블록은 생략 가능(try-finally)  "
   ]
  },
  {
   "cell_type": "markdown",
   "id": "217a7ef0",
   "metadata": {},
   "source": [
    "❖ 사용자가 예외 클래스를 선언하고, 함수에서 예외를 발생시키기  \n",
    "• 사용자 예외 클래스는 Exception 클래스에서 상속받아 정의  \n",
    "• __str__ 함수를 작성하면 예외 내용을 문자열로 출력 가능  \n",
    "• __init__ 함수를 작성하면 예외를 발생시킬 때 값을 전달할 수 있음  "
   ]
  },
  {
   "cell_type": "code",
   "execution_count": null,
   "id": "56c7fbf2",
   "metadata": {},
   "outputs": [],
   "source": [
    "class NegativeNumberError(Exception):\n",
    "    def __init__(self, value):\n",
    "        self.value = value\n",
    "        self.message = f\"음수는 허용되지 않습니다: 입력값({value})\"\n",
    "        super().__init__(self.message)\n",
    "    \n",
    "    def __str__(self):\n",
    "        return self.message\n",
    "    \n",
    "    def process_number(n):\n",
    "        if n < 0:\n",
    "            raise NegativeNumberError(n)\n",
    "        return n * 2\n",
    "    \n",
    "    \n"
   ]
  },
  {
   "cell_type": "code",
   "execution_count": null,
   "id": "adf418f5",
   "metadata": {},
   "outputs": [],
   "source": [
    "try:\n",
    "    num = int(input(\"양의 정수를 입력하세요: \"))\n",
    "    result = process_number(num)\n",
    "except ValueError:\n",
    "    print(\"숫자가 아닌 값을 입력했습니다.\")\n",
    "except NegativeNumberError as e:\n",
    "    print(f\"사용자 정의 예외 발생: {e}\")\n",
    "else:\n",
    "    print(f\"처리 결과: {result}\")\n",
    "finally:\n",
    "    print(\"프로그램 종료.\")"
   ]
  },
  {
   "cell_type": "markdown",
   "id": "8ae1998f",
   "metadata": {},
   "source": [
    "### 파일 입출력  \n",
    "  \n",
    "❖ 표준 입출력  \n",
    "• 표준 입력 (standard input) : 키보드  \n",
    "• 표준 출력 (standard output) : 콘솔 화면  \n",
    "• 표준 에러 (standard error) : 콘솔 화면  \n",
    "  \n",
    "❖ 파일 입출력  \n",
    "• 표준 입출력 대신에 파일에 기록하는 것  \n",
    "• 텍스트(text) 파일 : 사람이 볼 수 있는 문자 데이터를 저장 (메모장으로 확인 가능)  \n",
    "• 이진(binary) 파일: 이진수 데이터를 저장  \n",
    "  \n",
    "❖ 파일 처리 과정  \n",
    "• 열기 : 파일 이름과 처리목적(읽기 또는 쓰기)를 지정해 사용하려는 파일을 열기  \n",
    "• 사용 : 열린 파일에 대한 읽기 또는 쓰기를 진행  \n",
    "• 닫기 : 파일의 사용이 끝나면 열린 파일을 닫아 버퍼에 있는 내용을 디스크에 모두 반영    "
   ]
  },
  {
   "cell_type": "markdown",
   "id": "3638566b",
   "metadata": {},
   "source": [
    "### 파일 다루기  \n",
    "  \n",
    "❖ 파일의 개념적 모델  \n",
    "• 오프셋 0부터 끝까지 1Byte 단위로 직렬화되어 저장됨  \n",
    "  \n",
    "❖ 파일의 열기  \n",
    "• fp = open(“filename”, “mode”)  \n",
    "- Filename : 열고자 하는 파일명 (절대경로 혹은 상대경로로 지정)  \n",
    "- mode : r, w, a, x / r+, w+, a+ / rb, wb, ab, rb+, wb+, ab+  "
   ]
  },
  {
   "cell_type": "markdown",
   "id": "647e78cb",
   "metadata": {},
   "source": [
    "❖ 파일의 열기 모드 (텍스트 파일)  \n",
    "  \n",
    "'r' 읽기 전용 모드. 파일이 존재해야 함.  \n",
    "'w' 쓰기 전용 모드. 파일이 없으면 생성, 있으면 내용 덮어쓰기.  \n",
    "'a' 추가 모드. 파일 끝에 내용을 덧붙임. 없으면 생성.  \n",
    "'x' 배타적 생성 모드. 파일이 있으면 오류 발생. 없으면 새로 생성.  \n",
    "  \n",
    "'r+' 읽기/쓰기 모드. 파일이 존재해야 함.  \n",
    "'w+' 읽기/쓰기 모드. 파일을 새로 쓰기 시작함 (내용 덮어쓰기).  \n",
    "'a+' 읽기/쓰기 모드. 파일 끝에 덧붙이기. 기존 내용은 유지.  \n"
   ]
  },
  {
   "cell_type": "markdown",
   "id": "6f961492",
   "metadata": {},
   "source": [
    "### 텍스트 파일: 쓰기\n",
    "  \n",
    "❖ 현재 폴더(실행 중인 폴더)에 phonebook.txt 파일을 쓰기 모드로 열고 유니코드의 인코딩 방식은 utf-8 형식으로 저장하라  \n",
    "• Utf-8 (Unicode Transfer Format 8-bit)  \n",
    "- 가변 길이 인코딩: 한 문자를 1~4바이트로 표현, ASCII 문자(영문, 숫자 등)는 1B, 한글/한자/특수문자 2~4B  \n",
    "- 호환성: ASCII와 완벽 호환 (기존 시스템과 충돌 없음)  \n",
    "- 범용성: 유니코드 기반으로 거의 모든 언어의 문자를 표현 가능  \n",
    "- 효율성: 영어 중심의 문서에서는 저장 공간을 절약할 수 있다  \n",
    "  \n",
    "• write 함수 : 여러 줄을 쓸 때, 문자열로 출력    \n",
    "• writeline 함수: 한 줄 씩 쓸 때  \n",
    "• 한 줄 (line) : 제일 끝 문자가 ‘\\n’ 으로 끝냄  \n",
    "• 파일이 없으면 생성하고, 있으면 기존의 내용을 덮어쓰기하므로 주의!!  "
   ]
  },
  {
   "cell_type": "code",
   "execution_count": null,
   "id": "d4108d0f",
   "metadata": {},
   "outputs": [],
   "source": [
    "ofile = open(\"./phonebook.txt\", \"w\", encoding=\"utf-8\") # 열기\n",
    "ofile.write(\"John Doe, 123-456-7890\\nJane Smith, 987-654-3210\\n\")\n",
    "ofile.write(\"Alice Johnson, 555-123-4567\\nBob Brown, 444-987-6543\\n\")\n",
    "ofile.writeline(\"Charlie Davis, 333-222-1111\\n\")\n",
    "ofile.writeline(\"Eve White, 777-888-9999\\n\")\n",
    "ofile.close()"
   ]
  },
  {
   "cell_type": "markdown",
   "id": "28b38678",
   "metadata": {},
   "source": [
    "### 텍스트 파일: 읽기  \n",
    "  \n",
    "❖ 현재 폴더(실행 중인 폴더)에 유니코드의 인코딩 방식은 utf-8 형식으로 저장된 phonebook.txt 텍스트 파일을 읽기 모  \n",
    "드로 열고 각 라인을 출력하라  \n",
    "  \n",
    "• Utf-8 (Unicode Transfer Format 8-bit) 형식을 디코딩하여 유니코드로 변환하여 읽음  \n",
    "• readlines 함수 : 여러 줄을 읽어 리스트로 반환 (개행문자, ‘\\n’, new line 문자를 한 줄로 취급)  \n",
    "• readline 함수: 한 줄 씩 읽어 문자열로 반환  \n",
    "• str.strip() : 앞 뒤의 공백 문자를 제거  \n",
    "• 만약 파일이 없으면 예외 발생    "
   ]
  },
  {
   "cell_type": "code",
   "execution_count": null,
   "id": "e69c9e77",
   "metadata": {},
   "outputs": [],
   "source": [
    "rfile = open(\"./phonebook.txt\", \"r\", encoding=\"utf-8\")\n",
    "Line : str = rfile.readline()\n",
    "while line:\n",
    "    print(line.strip())\n",
    "    line = rfile.readline()\n",
    "rfile.close()\n",
    "\n",
    "# or (단 파일 사이즈가 크면 메모리가 부족할 수 있어 앞의 것을 선호)\n",
    "rfile = open(\"./phonebook.txt\", \"r\", encoding=\"utf-8\")\n",
    "Lines : list = rfile.readlines()\n",
    "for line in lines:\n",
    "    print(line.strip())\n",
    "rfile.close()"
   ]
  },
  {
   "cell_type": "markdown",
   "id": "ce446e7f",
   "metadata": {},
   "source": [
    "### 텍스트 파일: 읽기 예외 처리  \n",
    "  \n",
    "❖ 현재 폴더(실행 중인 폴더)에 유니코드의 인코딩 방식은 utf-8 형식으로 저장된 phonebook.txt 텍스트 파일을 읽기 모  \n",
    "드로 열고 각 라인을 출력하라  \n",
    "  \n",
    "• 만약 파일이 없으면 FileNotFoundError 예외 발생  \n",
    "• 예외 처리해야 함    "
   ]
  },
  {
   "cell_type": "code",
   "execution_count": null,
   "id": "01027d47",
   "metadata": {},
   "outputs": [],
   "source": [
    "try:\n",
    "    rfile = open(\"./phonebook1.txt\", \"r\", encoding=\"utf-8\")\n",
    "    lines : str = rfile.readline ()\n",
    "    while line:\n",
    "        print(line.strip())\n",
    "        line = rfile.readline()\n",
    "    rfile.close()\n",
    "except FileNotFoundError as e:\n",
    "    print(\"File not found:\", e)"
   ]
  },
  {
   "cell_type": "markdown",
   "id": "a4da98e7",
   "metadata": {},
   "source": [
    "### 파일 열고 쓰고 닫기 : 한번에 하는 방법 (with ~ as )  \n",
    "  \n",
    "❖ 전화번호:이름 형태의 딕셔너리 에 있는 값을 phonebook.txt 텍스트 파일에 쓰고 읽기 모드로 열고 각 라인을 출력하라\n",
    "  "
   ]
  },
  {
   "cell_type": "code",
   "execution_count": null,
   "id": "2bad6bd8",
   "metadata": {},
   "outputs": [],
   "source": [
    "contacts: dict = {'123-456-7890': 'John Doe', '987-654-3210': 'Jane Smith’, \\\n",
    "        '555-123-4567' : 'Alice Johnson', '444-987-6543': 'Bob Brown', \\\n",
    "        '333-222-1111': 'Charlie Davis', '777-888-9999': 'Eve White'}\n",
    "\n",
    "with open(\"./phonebook.txt\", \"w\", encoding=\"utf-8\") as wfile:\n",
    "    for key, value in contacts.items():\n",
    "        wfile.write(f\"{value}, {key}\\n\")\n",
    "\n",
    "ith open(\"./phonebook.txt\", \"r\", encoding=\"utf-8\") as rfile:\n",
    "    line : str = rfile.readline()\n",
    "    while line:\n",
    "        key, value = line.strip().split(\", \")\n",
    "        print(f\"Name: {key}, Phone: {value}\")\n",
    "        line = rfile.readline()\n",
    "\n",
    "\n",
    "with open(\"./phonebook.txt\", \"r\", encoding=\"utf-8\") as rfile:\n",
    "    for line in rfile:\n",
    "        key, value = line.strip().split(\", \")\n",
    "        print(f\"Name: {key.strip()}, Phone: {value.strip()}\")"
   ]
  },
  {
   "cell_type": "markdown",
   "id": "0975a863",
   "metadata": {},
   "source": [
    "텍스트 파일: 추가하기"
   ]
  },
  {
   "cell_type": "code",
   "execution_count": null,
   "id": "28b49b3c",
   "metadata": {},
   "outputs": [],
   "source": [
    "ofile = open(\"./phonebook.txt\", “a”, encoding=“utf-8”) # 열기\n",
    "ofile.write(＂홍길동, 123-456-7890\\n김정렬, 987-654-3210\\n\")\n",
    "            \n",
    "ofile.close()"
   ]
  },
  {
   "cell_type": "markdown",
   "id": "69fff4e8",
   "metadata": {},
   "source": [
    "❖ 이진 파일의 열기 모드"
   ]
  },
  {
   "cell_type": "markdown",
   "id": "3cd6f946",
   "metadata": {},
   "source": [
    "'rb' 바이너리 읽기 모드  \n",
    "'wb' 바이너리 쓰기 모드  \n",
    "'ab' 바이너리 추가 모드  \n",
    "'rb+' 바이너리 읽기/쓰기 모드  \n",
    "'wb+' 바이너리 읽기/쓰기 모드 (덮어쓰기)  \n",
    "'ab+' 바이너리 읽기/쓰기 모드 (추가)"
   ]
  },
  {
   "cell_type": "markdown",
   "id": "7da3b3a9",
   "metadata": {},
   "source": [
    "### 이진 파일의 처리  \n",
    "  \n",
    "❖ 이미지, 음악, 영상 파일 들은 텍스트파일이 아니어서 메모장으로 읽을 수 없음 (문자 깨짐)  \n",
    "• 해당 파일들은 특정한 인코딩 규칙에 의해 이진으로 저장됨  \n",
    "• 따라서 특정한 디코딩 규칙에 의해 원래 데이터로 복구해야 함  \n",
    "  \n",
    "❖ 이진 파일의 읽고 쓰기  \n",
    "• r: bytes = f.read(<바이트수>)  \n",
    "• write(<바이트 객체>)  \n",
    "• Type(bytes) : 바이트로 직렬화된 바이트 스트림 객체  \n",
    "  \n",
    "❖ 유니코드 문자열 → 바이트 변환  \n",
    "• strb : bytes = str.encode(‘utf-8’) → 한글 1글자에 3바이트, 영문 1글자에 1바이트로 변환  \n",
    "• strb.ljust(bsize, fillchar) → bsize만큼 할당하고 왼쪽 정렬, 나머지는 fillchar 로 채움  \n",
    "• 예) str = ‘한글‘, strb = str.encode(‘utf-8’).ljust(16, b’\\x00’) : 16바이트 할당하여 왼쪽정렬, 나머지는 0으로 채움  \n",
    "  \n",
    "❖ 바이트 → 유니코드 변환  \n",
    "• Str : str = strb[:16].rstrip(b’\\x00’).decode(‘utf-8’), 읽어드린 바이트스트림의 16바이트 끊고 우측 0을 제거  \n",
    "한 후 utf-8로 디코드하여 유니코드 얻기  \n",
    "\n"
   ]
  },
  {
   "cell_type": "markdown",
   "id": "c75dff79",
   "metadata": {},
   "source": [
    "이진 파일 다루기 예제 : 고정길이 전화번호부 (연락처 클래스 선언)  \n",
    "  \n",
    "❖ 전화번호: 전화번호, 이름, 나이로 구성된 phonebook.bin 이진파일에 쓰고 읽어보라. 단, 전화번호 16바이트, 이름 16  \n",
    "바이트, 나이는 이진수 4바이트 총 36바이트를 고정길이 레코드로 처리하라."
   ]
  },
  {
   "cell_type": "code",
   "execution_count": null,
   "id": "1fdd099b",
   "metadata": {},
   "outputs": [],
   "source": [
    "class ContactRecord:\n",
    "    def __init__(self, phone: str, name: str, age: int = None):\n",
    "        self.phone = phone\n",
    "        self.name = name\n",
    "        self.age = age if age is not None else 0\n",
    "    def __str__(self) -> str:\n",
    "        return f\"전화번호: {self.phone}, 이름: {self.name}, 나이: {self.age}\"\n",
    "\n",
    "\n",
    "# 테스트용 연락처 데이터\n",
    "contacts = [\n",
    "    ContactRecord(\"010-1234-5678\", \"홍길동\", 25),\n",
    "    ContactRecord(\"010-2345-6789\", \"김철수\", 30),\n",
    "    ContactRecord(\"010-3456-7890\", \"이영희\", 28),\n",
    "    ContactRecord(\"010-4567-8901\", \"박민수\", 35)\n",
    "]"
   ]
  },
  {
   "cell_type": "markdown",
   "id": "54a698df",
   "metadata": {},
   "source": [
    "이진 파일 다루기 예제 : 레코드 바이트 패킹/언패킹 함수 정의  \n",
    "  \n",
    "❖ 전화번호:이름 형태의 딕셔너리 에 있는 값을 phonebook.bin 이진파일에 쓰고 읽어보라. 단, 전화번호 16바이트, 이름\n",
    "16바이트, 나이 4바이트 총 36바이트를 고정길이 레코드로 처리하라.  "
   ]
  },
  {
   "cell_type": "code",
   "execution_count": null,
   "id": "8637ccba",
   "metadata": {},
   "outputs": [],
   "source": [
    "import struct\n",
    "\n",
    "def pack_contact_record(contact: ContactRecord) -> bytes:\n",
    "    \"\"\"\n",
    "    ContactRecord 객체를 36바이트 레코드로 패킹하는 함수\n",
    "    포맷:\n",
    "    - 전화번호: 16바이트 문자열 / - 이름: 16바이트 문자열 / - 나이: 4바이트 정수\"\"\"\n",
    "    \n",
    "    # 문자열을 바이트로 변환하고 고정 길이로 맞춤, 나머지는 NULL문자(b’\\x00’)로 채움\n",
    "    phone_bytes = contact.phone.encode('utf-8')[:16].ljust(16, b'\\x00')\n",
    "    name_bytes = contact.name.encode('utf-8')[:16].ljust(16, b'\\x00')\n",
    "    \n",
    "    # struct.pack으로 36바이트 레코드 생성 / # 16s: 16바이트 문자열 (전화번호) / # 16s: 16바이트 문자열 (이름)/   \\\n",
    "    # i: 4바이트 정수 (나이)\n",
    "    return struct.pack(\"16s16si\", phone_bytes, name_bytes, contact.age)\n",
    "\n",
    "\n",
    "def unpack_contact_record(record: bytes) -> ContactRecord:\n",
    "    phone_bytes, name_bytes, age = struct.unpack(\"16s16si\", record) # struct.unpack으로 데이터 추출\n",
    "    phone = phone_bytes.rstrip(b'\\x00').decode('utf-8', errors='ignore')    # 널 바이트 제거하고 디코딩\n",
    "    name = name_bytes.rstrip(b'\\x00').decode('utf-8', errors='ignore')      # 널 바이트 제거하고 디코딩\n",
    "    return ContactRecord(phone, name, age)"
   ]
  },
  {
   "cell_type": "markdown",
   "id": "79b8765d",
   "metadata": {},
   "source": [
    "이진 파일 다루기 예제 : 전화번호부 읽고 쓰기  \n",
    "  \n",
    "❖ 전화번호:이름 형태의 딕셔너리 에 있는 값을 phonebook.bin 이진파일에 쓰고 읽어보라. 단, 전화번호 16바이트, 이름\n",
    "16바이트, 나이 4바이트 총 36바이트를 고정길이 레코드로 처리하라.\n",
    "  "
   ]
  },
  {
   "cell_type": "code",
   "execution_count": null,
   "id": "4a190860",
   "metadata": {},
   "outputs": [],
   "source": [
    "rint(\"36바이트 레코드로 저장:\")\n",
    "with open(\"./contacts_struct.bin\", \"wb\") as file:\n",
    "    for contact in contacts:\n",
    "    # pack_contact_record 함수를 사용하여 레코드 생성\n",
    "    record = pack_contact_record(contact)\n",
    "    file.write(record)\n",
    "    print(f\" 저장: {contact}\")\n",
    "\n",
    "\n",
    "print(\"\\n36바이트 레코드 읽기:\")\n",
    "with open(\"./contacts_struct.bin\", \"rb\") as file:\n",
    "    record_num = 1\n",
    "    while True:\n",
    "        record = file.read(36) # 36바이트씩 읽기 (16+16+4)\n",
    "        if not record or len(record) < 36:\n",
    "            break\n",
    "        \n",
    "        # unpack_contact_record 함수를 사용하여 레코드 해석\n",
    "        contact = unpack_contact_record(record)\n",
    "        print(f\" 레코드 {record_num}: {contact}\")\n",
    "        record_num += 1\n",
    "\n",
    "\n",
    "print(f\"\\n파일 크기 확인:\")\n",
    "import os\n",
    "if os.path.exists(\"./contacts_struct.bin\"):\n",
    "    size = os.path.getsize(\"./contacts_struct.bin\")\n",
    "    records = size // 36\n",
    "    print(f\"contacts_struct.bin: {size}바이트 ({records}개 레코드)\")\n"
   ]
  },
  {
   "cell_type": "markdown",
   "id": "c966a95d",
   "metadata": {},
   "source": [
    "### 파일의 임의 접근  \n",
    "  \n",
    "❖ 특정 위치(오프셋)로 가서 데이터를 읽거나 써야 할 필요가 있을 때 사용  \n",
    "  \n",
    "❖ 특히 고정 길이 파일 구조의 특정 레코드를 임의로 접근  \n",
    "  \n",
    "❖ 순차적이 아닌 임의 접근하므로 모든 레코드가 아닌 해당 레코드만 변경 가능  \n",
    "  \n",
    "❖ 함수: f.seek(offset, from)  \n",
    "• offset : 이동할 파일의 위치 (0~n-1, n은 파일 사이즈(Byte))  \n",
    "• From : 0 – 파일 처음부터, 1 – 파일 현재 커서 위치부터, 2 – 파일의 끝부터  \n",
    "• 예 f.seek(10,0) : 처음부터 10의 위치, f.seek(10, 2) : 끝에서 10번째 위치, f.seek(10,1) 현재 위치  \n",
    "부터 10만큼 뒤  \n",
    "• 현재 위치 (커서 위치) : 파일을 읽거나 쓸 때 쓴 바이트만큼 커서 위치가 증가  \n",
    "• 오픈했을 때 커서 위치는 0  \n",
    "  \n",
    "❖ 함수: f.tell()  \n",
    "• 열린 파일 f의 파일포인터 현재 위치를 알고 싶을 때    "
   ]
  },
  {
   "cell_type": "markdown",
   "id": "0100b6fc",
   "metadata": {},
   "source": [
    "이진 파일 다루기 예제 : 전화번호부 검색하여 수정  \n",
    "  \n",
    "❖ phonebook.bin 이진파일에서 주어진 전화번호를 검색하여 레코드번호, 전화번호, 이름을 출력하여라. 단, 전화번호  \n",
    "16바이트, 이름 16바이트, 총 32바이트를 고정길이 레코드로 가정한다. (단, 순차탐색 가정)    "
   ]
  },
  {
   "cell_type": "code",
   "execution_count": null,
   "id": "42296442",
   "metadata": {},
   "outputs": [],
   "source": [
    "def update_contact_in_binary_file(filename: str, target_phone: str, new_name: str, new_age: int)\n",
    "-> bool:\n",
    "    \"\"\"이진 파일에서 특정 전화번호의 연락처 정보 수정\"\"\"\n",
    "try:\n",
    "    with open(filename, \"r+b\") as file:\n",
    "        record_num = 0\n",
    "        while True:\n",
    "            position = file.tell() # 현재 위치 저장\n",
    "            record = file.read(36) # 36바이트 레코드\n",
    "\n",
    "            if not record or len(record) < 36:\n",
    "                break\n",
    "        \n",
    "        record_num += 1\n",
    "        contact = unpack_contact_record(record)\n",
    "\n",
    "        if contact.phone == target_phone:\n",
    "            # 새로운 연락처 레코드 생성\n",
    "            new_contact = ContactRecord(target_phone, new_name, new_age)\n",
    "            new_record = pack_contact_record(new_contact)\n",
    "            \n",
    "            # 해당 위치로 돌아가서 수정\n",
    "            file.seek(position)\n",
    "            file.write(new_record)\n",
    "            \n",
    "            print(f\"레코드 {record_num} 수정 완료:\")\n",
    "            print(f\"이전: {contact}\")\n",
    "            print(f\"이후: {new_contact}\")\n",
    "            return True\n",
    "    \n",
    "    print(f\"전화번호 '{target_phone}'을 찾을 수 없습니다.\")\n",
    "    return False\n",
    "\n",
    "except FileNotFoundError:\n",
    "    print(f\"파일 {filename}을 찾을 수 없습니다.\")\n",
    "    return False"
   ]
  },
  {
   "cell_type": "markdown",
   "id": "2e9932e7",
   "metadata": {},
   "source": [
    "with~as 구문  \n",
    "  \n",
    "❖ 문법  \n",
    "• with 표현식 as 변수:  \n",
    "• 코드 블록  \n",
    "- 표현식 : 컨텍스트 관리자를 반환하는 객체   \n",
    "- as 변수는 : 그 객체의 리턴값을 변수에 할당  \n",
    "- 코드블록이 끝나면 자동으로 자원정리 (__exit__) 가 호출    "
   ]
  },
  {
   "cell_type": "code",
   "execution_count": null,
   "id": "ae2f03d9",
   "metadata": {},
   "outputs": [],
   "source": [
    "with open(\"data.txt\", \"r\") as f:\n",
    "    content = f.read()\n",
    "    print(content)"
   ]
  },
  {
   "cell_type": "markdown",
   "id": "0d653005",
   "metadata": {},
   "source": [
    "with~as 구문 : 사용자 정의 표현식 (사용자 정의 Context 클래스)    \n",
    "    \n",
    "❖ 문법  \n",
    "• with 표현식 as 변수:  \n",
    "• 코드 블록  \n",
    "  \n",
    "❖ 사용자 정의 컨텍스트 클래스 정의 예제  \n",
    "• 사용자 정의 컨  \n",
    "- MyContext : __enter__ 와 __exit__ 함수를 다음과 같이 정의  \n",
    "- with MyContext as obj : MyContext 객체를 만든 후 __enter__를 실행하고 객체 반환  \n",
    "- 코드블록이 끝나면 __exit__ 함수 수행  \n",
    "  "
   ]
  },
  {
   "cell_type": "code",
   "execution_count": 1,
   "id": "222f3adc",
   "metadata": {},
   "outputs": [
    {
     "name": "stdout",
     "output_type": "stream",
     "text": [
      "자원 획득\n",
      "작업 시작\n",
      "자원 해제\n"
     ]
    }
   ],
   "source": [
    "class MyContext:\n",
    "    def __enter__(self):\n",
    "        print(\"자원 획득\")\n",
    "        return \"작업 시작\"\n",
    "    \n",
    "    def __exit__(self, exc_type, exc_value, traceback):\n",
    "        print(\"자원 해제\")\n",
    "\n",
    "with MyContext() as msg:\n",
    "    print(msg)\n"
   ]
  },
  {
   "cell_type": "markdown",
   "id": "0bf78db5",
   "metadata": {},
   "source": [
    "with~as 구문 : Context 클래스 contextmanager 사용  \n",
    "  \n",
    "❖ 사용자 정의 컨텍스트 클래스 정의 예제  \n",
    "• @contextmanager 데코레이터 사용  \n",
    "- yield: __enter__를 실행하는 것과 동일  \n",
    "- finally: __exit__ 함수 수행  "
   ]
  },
  {
   "cell_type": "code",
   "execution_count": 2,
   "id": "9fff3498",
   "metadata": {},
   "outputs": [
    {
     "name": "stdout",
     "output_type": "stream",
     "text": [
      "Hello, World!\n",
      "\n"
     ]
    }
   ],
   "source": [
    "from contextlib import contextmanager\n",
    "\n",
    "@contextmanager\n",
    "def open_file(name, mode):\n",
    "    f = open(name, mode)\n",
    "    try:\n",
    "        yield f\n",
    "    finally:\n",
    "        f.close()\n",
    "\n",
    "# 사용 예\n",
    "with open_file(\"data.txt\", \"w+\") as file:\n",
    "    file.write(\"Hello, World!\\n\")\n",
    "    file.seek(0)\n",
    "    content = file.read()\n",
    "    print(content)"
   ]
  },
  {
   "cell_type": "markdown",
   "id": "f76f53d6",
   "metadata": {},
   "source": [
    "F-String (formatted string)  \n",
    "  \n",
    "❖ 변수나 표현식으로 내용을 변경할 수 있는 포맷 문자열 f’ {} '  "
   ]
  },
  {
   "cell_type": "code",
   "execution_count": null,
   "id": "fbc11dbe",
   "metadata": {},
   "outputs": [],
   "source": [
    "from datetime import datetime # datetime 모듈에서 datetime 클래스만 임포트\n",
    "\n",
    "\n",
    "\n",
    "n = 10\n",
    "date = datetime(1988, 8, 16, 21, 30)\n",
    "print(f'{n:|^20}') # '0000000010'\n",
    "date = datetime(1988, 8, 16, 21, 30)\n",
    "now = datetime.now()\n",
    "m = 20000\n",
    "a = True\n",
    "\n",
    "print(f'양수부호표시{n:+}') # '10’, 음수는 n:-\n",
    "print(f'날짜 {date:%c}') # 'Tue Aug 16 21:30:00 1988'\n",
    "print(f'날짜 {now:%Y년 %m월 %d일 %H시 %M분 %S초}') # '2022년 08월 16일 21시 30분 00초'\n",
    "print(f'{bool(a) = }') # 'bool(a) = True'\n",
    "print(f'소수점아래2자리 {n:_.2f}') # ‘10.00’\n",
    "print(f'왼쪽정렬 {m:<10,}') # ‘20,000’\n",
    "print(f'수식결과 {3 + 4 = }') # '3 + 4 = 7'\n",
    "print(f'우측정렬 {m:0>10}') # '0000000010'\n",
    "print(f'중앙정렬과 쉼표표기 {m:^20,}') # ' 20,000 '\n",
    "print(f\"0으로 패딩: '{num:010.2f}'\")"
   ]
  },
  {
   "cell_type": "markdown",
   "id": "c1e2d0b1",
   "metadata": {},
   "source": [
    "F-String (formatted string)  \n",
    "  \n",
    "❖ 변수나 표현식으로 내용을 변경할 수 있는 포맷 문자열 f’ {} '\n",
    "  "
   ]
  },
  {
   "cell_type": "code",
   "execution_count": null,
   "id": "d5b0bae3",
   "metadata": {},
   "outputs": [],
   "source": [
    "print(f\"십진수: {number}\")\n",
    "print(f\"이진수: {number:b}\")\n",
    "print(f\"이진수 (0b 접두사): {number:#b}\")\n",
    "print(f\"팔진수: {number:o}\")\n",
    "print(f\"팔진수 (0o 접두사): {number:#o}\")\n",
    "print(f\"십육진수: {number:x}\")\n",
    "print(f\"십육진수 (대문자): {number:X}\")\n",
    "print(f\"십육진수 (0x 접두사): {number:#x}\")\n",
    "print(f\"십육진수 (대문자, 0X 접두사): {number:#X}\")"
   ]
  },
  {
   "cell_type": "markdown",
   "id": "07fd5b15",
   "metadata": {},
   "source": [
    "날짜와 시간"
   ]
  },
  {
   "cell_type": "code",
   "execution_count": null,
   "id": "640514bc",
   "metadata": {},
   "outputs": [],
   "source": [
    "# 날짜와 시간 포맷팅\n",
    "from datetime import datetime\n",
    "\n",
    "\n",
    "\n",
    "now = datetime.now()\n",
    "birthday = datetime(1995, 5, 15, 14, 30, 0)\n",
    "\n",
    "\n",
    "print(f\"현재 시간: {now}\")\n",
    "print(f\"기본 포맷: {now:%Y-%m-%d %H:%M:%S}\")\n",
    "print(f\"한국 날짜 형식: {now:%Y년 %m월 %d일}\")\n",
    "print(f\"시간만: {now:%H:%M:%S}\")\n",
    "print(f\"AM/PM 형식: {now:%Y-%m-%d %I:%M:%S %p}\")\n",
    "print(f\"요일: {now:%A}\")\n",
    "print(f\"월 이름: {now:%B}\")\n",
    "print(f\"ISO 형식: {now:%Y-%m-%dT%H:%M:%S}\")\n",
    "\n",
    "\n",
    "print(f\"\\n생일: {birthday:%Y년 %m월 %d일 %H시 %M분}\")"
   ]
  },
  {
   "cell_type": "markdown",
   "id": "1f700390",
   "metadata": {},
   "source": [
    "표현식과 함수 호출"
   ]
  },
  {
   "cell_type": "code",
   "execution_count": null,
   "id": "af82e7f4",
   "metadata": {},
   "outputs": [],
   "source": [
    "import math \n",
    "a = 10\n",
    "b = 3\n",
    "name = \"python\"\n",
    "# 수학 연산\n",
    "print(f\"{a} + {b} = {a + b}\")\n",
    "print(f\"{a} - {b} = {a - b}\")\n",
    "print(f\"{a} * {b} = {a * b}\")\n",
    "print(f\"{a} / {b} = {a / b}\")\n",
    "print(f\"{a} ** {b} = {a ** b}\")\n",
    "print(f\"{a} % {b} = {a % b}\")\n",
    "\n",
    "# 함수 호출\n",
    "print(f\"sqrt({a}) = {math.sqrt(a):.2f}\")\n",
    "print(f\"sin({π/2}) = {math.sin(math.pi/2):.2f}\")\n",
    "\n",
    "# 문자열 메서드\n",
    "print(f\"대문자: {name.upper()}\")\n",
    "print(f\"길이: {len(name)}\")\n",
    "print(f\"첫 글자: {name[0]}\")\n",
    "\n",
    "# 조건식\n",
    "score = 85\n",
    "print(f\"성적: {score}점 ({'합격' if score >= 60 else '불합격'})\")"
   ]
  },
  {
   "cell_type": "markdown",
   "id": "3bf50de0",
   "metadata": {},
   "source": [
    "문자열 정렬과 패딩"
   ]
  },
  {
   "cell_type": "code",
   "execution_count": null,
   "id": "48da5716",
   "metadata": {},
   "outputs": [],
   "source": [
    "text = \"Python\"\n",
    "width = 20\n",
    "\n",
    "print(\"기본 정렬:\")\n",
    "print(f\"'{text:<{width}}'\")  # 왼쪽 정렬\n",
    "print(f\"'{text:>{width}}'\")  # 오른쪽 정렬\n",
    "print(f\"'{text:^{width}}'\")  # 가운데 정렬\n",
    "\n",
    "print(\"\\n특수 문자로 패딩:\")\n",
    "print(f\"'{text:-<{width}}'\")  # 왼쪽 정렬, - 패딩\n",
    "print(f\"'{text:*>{width}}'\")  # 오른쪽 정렬, * 패딩\n",
    "print(f\"'{text:=^{width}}'\")  # 가운데 정렬, = 패딩\n",
    "\n",
    "print(\"\\n숫자 정렬:\")\n",
    "numbers = [1, 22, 333, 4444]\n",
    "for num in numbers:\n",
    "    print(f\"'{num:>6}'\")  # 오른쪽 정렬, 폭 6\n",
    "\n",
    "print(\"\\n테이블 형태:\")\n",
    "data = [\n",
    "    (\"이름\", \"나이\", \"점수\"),\n",
    "    (\"김철수\", 25, 85),\n",
    "    (\"이영희\", 30, 92),\n",
    "    (\"박민수\", 22, 78)\n",
    "]\n",
    "\n",
    "for row in data:\n",
    "    print(f\"{row[0]:<8}{row[1]:>3}{row[2]:>4}\")\n"
   ]
  },
  {
   "cell_type": "markdown",
   "id": "bd0b16ab",
   "metadata": {},
   "source": []
  }
 ],
 "metadata": {
  "kernelspec": {
   "display_name": "Python 3",
   "language": "python",
   "name": "python3"
  },
  "language_info": {
   "codemirror_mode": {
    "name": "ipython",
    "version": 3
   },
   "file_extension": ".py",
   "mimetype": "text/x-python",
   "name": "python",
   "nbconvert_exporter": "python",
   "pygments_lexer": "ipython3",
   "version": "3.11.9"
  }
 },
 "nbformat": 4,
 "nbformat_minor": 5
}
